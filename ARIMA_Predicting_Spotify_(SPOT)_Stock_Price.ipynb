{
  "nbformat": 4,
  "nbformat_minor": 0,
  "metadata": {
    "colab": {
      "provenance": [],
      "authorship_tag": "ABX9TyMskTvzqS/Ie2+qi/yp2G1A",
      "include_colab_link": true
    },
    "kernelspec": {
      "name": "python3",
      "display_name": "Python 3"
    },
    "language_info": {
      "name": "python"
    }
  },
  "cells": [
    {
      "cell_type": "markdown",
      "metadata": {
        "id": "view-in-github",
        "colab_type": "text"
      },
      "source": [
        "<a href=\"https://colab.research.google.com/github/abhinethraRG/ARIMA-predicting-stock-prices/blob/main/ARIMA_Predicting_Spotify_(SPOT)_Stock_Price.ipynb\" target=\"_parent\"><img src=\"https://colab.research.google.com/assets/colab-badge.svg\" alt=\"Open In Colab\"/></a>"
      ]
    },
    {
      "cell_type": "markdown",
      "source": [
        "# **ML application to predict a stock price using ARIMA.**\n",
        "\n",
        "Using ARIMA to predict the adjusted closing price of Spotify (SPOT) stock."
      ],
      "metadata": {
        "id": "wGxH9b5S4rQW"
      }
    },
    {
      "cell_type": "markdown",
      "source": [
        "## 1. Installing libraries.\n",
        "Installing necessary python libraries to build the model."
      ],
      "metadata": {
        "id": "7AG7HSEh8FGg"
      }
    },
    {
      "cell_type": "code",
      "execution_count": null,
      "metadata": {
        "colab": {
          "base_uri": "https://localhost:8080/"
        },
        "id": "8TP6sDC0tu8l",
        "outputId": "9b2e72e5-d96b-4e8f-b691-170831530645"
      },
      "outputs": [
        {
          "output_type": "stream",
          "name": "stdout",
          "text": [
            "Requirement already satisfied: yfinance in /usr/local/lib/python3.10/dist-packages (0.2.37)\n",
            "Requirement already satisfied: pandas>=1.3.0 in /usr/local/lib/python3.10/dist-packages (from yfinance) (2.0.3)\n",
            "Requirement already satisfied: numpy>=1.16.5 in /usr/local/lib/python3.10/dist-packages (from yfinance) (1.25.2)\n",
            "Requirement already satisfied: requests>=2.31 in /usr/local/lib/python3.10/dist-packages (from yfinance) (2.31.0)\n",
            "Requirement already satisfied: multitasking>=0.0.7 in /usr/local/lib/python3.10/dist-packages (from yfinance) (0.0.11)\n",
            "Requirement already satisfied: lxml>=4.9.1 in /usr/local/lib/python3.10/dist-packages (from yfinance) (4.9.4)\n",
            "Requirement already satisfied: appdirs>=1.4.4 in /usr/local/lib/python3.10/dist-packages (from yfinance) (1.4.4)\n",
            "Requirement already satisfied: pytz>=2022.5 in /usr/local/lib/python3.10/dist-packages (from yfinance) (2023.4)\n",
            "Requirement already satisfied: frozendict>=2.3.4 in /usr/local/lib/python3.10/dist-packages (from yfinance) (2.4.1)\n",
            "Requirement already satisfied: peewee>=3.16.2 in /usr/local/lib/python3.10/dist-packages (from yfinance) (3.17.1)\n",
            "Requirement already satisfied: beautifulsoup4>=4.11.1 in /usr/local/lib/python3.10/dist-packages (from yfinance) (4.12.3)\n",
            "Requirement already satisfied: html5lib>=1.1 in /usr/local/lib/python3.10/dist-packages (from yfinance) (1.1)\n",
            "Requirement already satisfied: soupsieve>1.2 in /usr/local/lib/python3.10/dist-packages (from beautifulsoup4>=4.11.1->yfinance) (2.5)\n",
            "Requirement already satisfied: six>=1.9 in /usr/local/lib/python3.10/dist-packages (from html5lib>=1.1->yfinance) (1.16.0)\n",
            "Requirement already satisfied: webencodings in /usr/local/lib/python3.10/dist-packages (from html5lib>=1.1->yfinance) (0.5.1)\n",
            "Requirement already satisfied: python-dateutil>=2.8.2 in /usr/local/lib/python3.10/dist-packages (from pandas>=1.3.0->yfinance) (2.8.2)\n",
            "Requirement already satisfied: tzdata>=2022.1 in /usr/local/lib/python3.10/dist-packages (from pandas>=1.3.0->yfinance) (2024.1)\n",
            "Requirement already satisfied: charset-normalizer<4,>=2 in /usr/local/lib/python3.10/dist-packages (from requests>=2.31->yfinance) (3.3.2)\n",
            "Requirement already satisfied: idna<4,>=2.5 in /usr/local/lib/python3.10/dist-packages (from requests>=2.31->yfinance) (3.6)\n",
            "Requirement already satisfied: urllib3<3,>=1.21.1 in /usr/local/lib/python3.10/dist-packages (from requests>=2.31->yfinance) (2.0.7)\n",
            "Requirement already satisfied: certifi>=2017.4.17 in /usr/local/lib/python3.10/dist-packages (from requests>=2.31->yfinance) (2024.2.2)\n",
            "Requirement already satisfied: pmdarima in /usr/local/lib/python3.10/dist-packages (2.0.4)\n",
            "Requirement already satisfied: joblib>=0.11 in /usr/local/lib/python3.10/dist-packages (from pmdarima) (1.3.2)\n",
            "Requirement already satisfied: Cython!=0.29.18,!=0.29.31,>=0.29 in /usr/local/lib/python3.10/dist-packages (from pmdarima) (3.0.10)\n",
            "Requirement already satisfied: numpy>=1.21.2 in /usr/local/lib/python3.10/dist-packages (from pmdarima) (1.25.2)\n",
            "Requirement already satisfied: pandas>=0.19 in /usr/local/lib/python3.10/dist-packages (from pmdarima) (2.0.3)\n",
            "Requirement already satisfied: scikit-learn>=0.22 in /usr/local/lib/python3.10/dist-packages (from pmdarima) (1.2.2)\n",
            "Requirement already satisfied: scipy>=1.3.2 in /usr/local/lib/python3.10/dist-packages (from pmdarima) (1.11.4)\n",
            "Requirement already satisfied: statsmodels>=0.13.2 in /usr/local/lib/python3.10/dist-packages (from pmdarima) (0.14.1)\n",
            "Requirement already satisfied: urllib3 in /usr/local/lib/python3.10/dist-packages (from pmdarima) (2.0.7)\n",
            "Requirement already satisfied: setuptools!=50.0.0,>=38.6.0 in /usr/local/lib/python3.10/dist-packages (from pmdarima) (67.7.2)\n",
            "Requirement already satisfied: packaging>=17.1 in /usr/local/lib/python3.10/dist-packages (from pmdarima) (24.0)\n",
            "Requirement already satisfied: python-dateutil>=2.8.2 in /usr/local/lib/python3.10/dist-packages (from pandas>=0.19->pmdarima) (2.8.2)\n",
            "Requirement already satisfied: pytz>=2020.1 in /usr/local/lib/python3.10/dist-packages (from pandas>=0.19->pmdarima) (2023.4)\n",
            "Requirement already satisfied: tzdata>=2022.1 in /usr/local/lib/python3.10/dist-packages (from pandas>=0.19->pmdarima) (2024.1)\n",
            "Requirement already satisfied: threadpoolctl>=2.0.0 in /usr/local/lib/python3.10/dist-packages (from scikit-learn>=0.22->pmdarima) (3.4.0)\n",
            "Requirement already satisfied: patsy>=0.5.4 in /usr/local/lib/python3.10/dist-packages (from statsmodels>=0.13.2->pmdarima) (0.5.6)\n",
            "Requirement already satisfied: six in /usr/local/lib/python3.10/dist-packages (from patsy>=0.5.4->statsmodels>=0.13.2->pmdarima) (1.16.0)\n"
          ]
        }
      ],
      "source": [
        "!pip install yfinance\n",
        "!pip install pmdarima"
      ]
    },
    {
      "cell_type": "markdown",
      "source": [
        "## 2. Importing libraries.\n",
        " Importing the necessary libraries.\n",
        " We're using yfinance to extract the stock price data.\n",
        " This code block installs and imports necessary libraries for fetching financial data, performing data manipulation and analysis, as well as conducting ARIMA (AutoRegressive Integrated Moving Average) modeling for time series forecasting."
      ],
      "metadata": {
        "id": "jtUvoC_w0FcW"
      }
    },
    {
      "cell_type": "code",
      "source": [
        "import yfinance as yf\n",
        "import pandas as pd\n",
        "import numpy as np\n",
        "import pmdarima as pm\n",
        "from statsmodels.tsa.arima.model import ARIMA\n",
        "from sklearn.metrics import mean_squared_error\n",
        "import pmdarima as pm\n",
        "from datetime import datetime\n",
        "import matplotlib.pyplot as plt\n",
        "from sklearn.model_selection import train_test_split"
      ],
      "metadata": {
        "id": "jE1n53EVz93r"
      },
      "execution_count": null,
      "outputs": []
    },
    {
      "cell_type": "markdown",
      "source": [
        "## 3. Collecting historical stock data.\n",
        "\n",
        "The first step in building our predictive model is to collect historical stock data using yfinance library to get the historical stock prices of Spotify (SPOT) covering the period from January 1, 2020, to January 1, 2024."
      ],
      "metadata": {
        "id": "3hCyhwLL8Km9"
      }
    },
    {
      "cell_type": "code",
      "source": [
        "data = yf.download('SPOT', start='2020-01-01', end='2024-01-01')\n",
        "data.head()"
      ],
      "metadata": {
        "colab": {
          "base_uri": "https://localhost:8080/",
          "height": 255
        },
        "id": "gG7S6K1puFzS",
        "outputId": "36a581bd-f503-4ded-f157-27b7bd65ae51"
      },
      "execution_count": null,
      "outputs": [
        {
          "output_type": "stream",
          "name": "stderr",
          "text": [
            "\r[*********************100%%**********************]  1 of 1 completed\n"
          ]
        },
        {
          "output_type": "execute_result",
          "data": {
            "text/plain": [
              "                  Open        High         Low       Close   Adj Close  \\\n",
              "Date                                                                     \n",
              "2020-01-02  151.000000  152.800003  149.610001  151.619995  151.619995   \n",
              "2020-01-03  149.500000  153.589996  149.500000  152.500000  152.500000   \n",
              "2020-01-06  151.490005  157.000000  150.350006  156.720001  156.720001   \n",
              "2020-01-07  156.699997  157.850006  155.009995  156.020004  156.020004   \n",
              "2020-01-08  156.330002  159.479996  155.339996  158.779999  158.779999   \n",
              "\n",
              "             Volume  \n",
              "Date                 \n",
              "2020-01-02   662600  \n",
              "2020-01-03  1018400  \n",
              "2020-01-06  1311900  \n",
              "2020-01-07   876700  \n",
              "2020-01-08   974500  "
            ],
            "text/html": [
              "\n",
              "  <div id=\"df-549809a9-0cb8-4523-a10c-904f5cc63d08\" class=\"colab-df-container\">\n",
              "    <div>\n",
              "<style scoped>\n",
              "    .dataframe tbody tr th:only-of-type {\n",
              "        vertical-align: middle;\n",
              "    }\n",
              "\n",
              "    .dataframe tbody tr th {\n",
              "        vertical-align: top;\n",
              "    }\n",
              "\n",
              "    .dataframe thead th {\n",
              "        text-align: right;\n",
              "    }\n",
              "</style>\n",
              "<table border=\"1\" class=\"dataframe\">\n",
              "  <thead>\n",
              "    <tr style=\"text-align: right;\">\n",
              "      <th></th>\n",
              "      <th>Open</th>\n",
              "      <th>High</th>\n",
              "      <th>Low</th>\n",
              "      <th>Close</th>\n",
              "      <th>Adj Close</th>\n",
              "      <th>Volume</th>\n",
              "    </tr>\n",
              "    <tr>\n",
              "      <th>Date</th>\n",
              "      <th></th>\n",
              "      <th></th>\n",
              "      <th></th>\n",
              "      <th></th>\n",
              "      <th></th>\n",
              "      <th></th>\n",
              "    </tr>\n",
              "  </thead>\n",
              "  <tbody>\n",
              "    <tr>\n",
              "      <th>2020-01-02</th>\n",
              "      <td>151.000000</td>\n",
              "      <td>152.800003</td>\n",
              "      <td>149.610001</td>\n",
              "      <td>151.619995</td>\n",
              "      <td>151.619995</td>\n",
              "      <td>662600</td>\n",
              "    </tr>\n",
              "    <tr>\n",
              "      <th>2020-01-03</th>\n",
              "      <td>149.500000</td>\n",
              "      <td>153.589996</td>\n",
              "      <td>149.500000</td>\n",
              "      <td>152.500000</td>\n",
              "      <td>152.500000</td>\n",
              "      <td>1018400</td>\n",
              "    </tr>\n",
              "    <tr>\n",
              "      <th>2020-01-06</th>\n",
              "      <td>151.490005</td>\n",
              "      <td>157.000000</td>\n",
              "      <td>150.350006</td>\n",
              "      <td>156.720001</td>\n",
              "      <td>156.720001</td>\n",
              "      <td>1311900</td>\n",
              "    </tr>\n",
              "    <tr>\n",
              "      <th>2020-01-07</th>\n",
              "      <td>156.699997</td>\n",
              "      <td>157.850006</td>\n",
              "      <td>155.009995</td>\n",
              "      <td>156.020004</td>\n",
              "      <td>156.020004</td>\n",
              "      <td>876700</td>\n",
              "    </tr>\n",
              "    <tr>\n",
              "      <th>2020-01-08</th>\n",
              "      <td>156.330002</td>\n",
              "      <td>159.479996</td>\n",
              "      <td>155.339996</td>\n",
              "      <td>158.779999</td>\n",
              "      <td>158.779999</td>\n",
              "      <td>974500</td>\n",
              "    </tr>\n",
              "  </tbody>\n",
              "</table>\n",
              "</div>\n",
              "    <div class=\"colab-df-buttons\">\n",
              "\n",
              "  <div class=\"colab-df-container\">\n",
              "    <button class=\"colab-df-convert\" onclick=\"convertToInteractive('df-549809a9-0cb8-4523-a10c-904f5cc63d08')\"\n",
              "            title=\"Convert this dataframe to an interactive table.\"\n",
              "            style=\"display:none;\">\n",
              "\n",
              "  <svg xmlns=\"http://www.w3.org/2000/svg\" height=\"24px\" viewBox=\"0 -960 960 960\">\n",
              "    <path d=\"M120-120v-720h720v720H120Zm60-500h600v-160H180v160Zm220 220h160v-160H400v160Zm0 220h160v-160H400v160ZM180-400h160v-160H180v160Zm440 0h160v-160H620v160ZM180-180h160v-160H180v160Zm440 0h160v-160H620v160Z\"/>\n",
              "  </svg>\n",
              "    </button>\n",
              "\n",
              "  <style>\n",
              "    .colab-df-container {\n",
              "      display:flex;\n",
              "      gap: 12px;\n",
              "    }\n",
              "\n",
              "    .colab-df-convert {\n",
              "      background-color: #E8F0FE;\n",
              "      border: none;\n",
              "      border-radius: 50%;\n",
              "      cursor: pointer;\n",
              "      display: none;\n",
              "      fill: #1967D2;\n",
              "      height: 32px;\n",
              "      padding: 0 0 0 0;\n",
              "      width: 32px;\n",
              "    }\n",
              "\n",
              "    .colab-df-convert:hover {\n",
              "      background-color: #E2EBFA;\n",
              "      box-shadow: 0px 1px 2px rgba(60, 64, 67, 0.3), 0px 1px 3px 1px rgba(60, 64, 67, 0.15);\n",
              "      fill: #174EA6;\n",
              "    }\n",
              "\n",
              "    .colab-df-buttons div {\n",
              "      margin-bottom: 4px;\n",
              "    }\n",
              "\n",
              "    [theme=dark] .colab-df-convert {\n",
              "      background-color: #3B4455;\n",
              "      fill: #D2E3FC;\n",
              "    }\n",
              "\n",
              "    [theme=dark] .colab-df-convert:hover {\n",
              "      background-color: #434B5C;\n",
              "      box-shadow: 0px 1px 3px 1px rgba(0, 0, 0, 0.15);\n",
              "      filter: drop-shadow(0px 1px 2px rgba(0, 0, 0, 0.3));\n",
              "      fill: #FFFFFF;\n",
              "    }\n",
              "  </style>\n",
              "\n",
              "    <script>\n",
              "      const buttonEl =\n",
              "        document.querySelector('#df-549809a9-0cb8-4523-a10c-904f5cc63d08 button.colab-df-convert');\n",
              "      buttonEl.style.display =\n",
              "        google.colab.kernel.accessAllowed ? 'block' : 'none';\n",
              "\n",
              "      async function convertToInteractive(key) {\n",
              "        const element = document.querySelector('#df-549809a9-0cb8-4523-a10c-904f5cc63d08');\n",
              "        const dataTable =\n",
              "          await google.colab.kernel.invokeFunction('convertToInteractive',\n",
              "                                                    [key], {});\n",
              "        if (!dataTable) return;\n",
              "\n",
              "        const docLinkHtml = 'Like what you see? Visit the ' +\n",
              "          '<a target=\"_blank\" href=https://colab.research.google.com/notebooks/data_table.ipynb>data table notebook</a>'\n",
              "          + ' to learn more about interactive tables.';\n",
              "        element.innerHTML = '';\n",
              "        dataTable['output_type'] = 'display_data';\n",
              "        await google.colab.output.renderOutput(dataTable, element);\n",
              "        const docLink = document.createElement('div');\n",
              "        docLink.innerHTML = docLinkHtml;\n",
              "        element.appendChild(docLink);\n",
              "      }\n",
              "    </script>\n",
              "  </div>\n",
              "\n",
              "\n",
              "<div id=\"df-6f39fe9a-55eb-4833-bcd1-1d8a81281eb1\">\n",
              "  <button class=\"colab-df-quickchart\" onclick=\"quickchart('df-6f39fe9a-55eb-4833-bcd1-1d8a81281eb1')\"\n",
              "            title=\"Suggest charts\"\n",
              "            style=\"display:none;\">\n",
              "\n",
              "<svg xmlns=\"http://www.w3.org/2000/svg\" height=\"24px\"viewBox=\"0 0 24 24\"\n",
              "     width=\"24px\">\n",
              "    <g>\n",
              "        <path d=\"M19 3H5c-1.1 0-2 .9-2 2v14c0 1.1.9 2 2 2h14c1.1 0 2-.9 2-2V5c0-1.1-.9-2-2-2zM9 17H7v-7h2v7zm4 0h-2V7h2v10zm4 0h-2v-4h2v4z\"/>\n",
              "    </g>\n",
              "</svg>\n",
              "  </button>\n",
              "\n",
              "<style>\n",
              "  .colab-df-quickchart {\n",
              "      --bg-color: #E8F0FE;\n",
              "      --fill-color: #1967D2;\n",
              "      --hover-bg-color: #E2EBFA;\n",
              "      --hover-fill-color: #174EA6;\n",
              "      --disabled-fill-color: #AAA;\n",
              "      --disabled-bg-color: #DDD;\n",
              "  }\n",
              "\n",
              "  [theme=dark] .colab-df-quickchart {\n",
              "      --bg-color: #3B4455;\n",
              "      --fill-color: #D2E3FC;\n",
              "      --hover-bg-color: #434B5C;\n",
              "      --hover-fill-color: #FFFFFF;\n",
              "      --disabled-bg-color: #3B4455;\n",
              "      --disabled-fill-color: #666;\n",
              "  }\n",
              "\n",
              "  .colab-df-quickchart {\n",
              "    background-color: var(--bg-color);\n",
              "    border: none;\n",
              "    border-radius: 50%;\n",
              "    cursor: pointer;\n",
              "    display: none;\n",
              "    fill: var(--fill-color);\n",
              "    height: 32px;\n",
              "    padding: 0;\n",
              "    width: 32px;\n",
              "  }\n",
              "\n",
              "  .colab-df-quickchart:hover {\n",
              "    background-color: var(--hover-bg-color);\n",
              "    box-shadow: 0 1px 2px rgba(60, 64, 67, 0.3), 0 1px 3px 1px rgba(60, 64, 67, 0.15);\n",
              "    fill: var(--button-hover-fill-color);\n",
              "  }\n",
              "\n",
              "  .colab-df-quickchart-complete:disabled,\n",
              "  .colab-df-quickchart-complete:disabled:hover {\n",
              "    background-color: var(--disabled-bg-color);\n",
              "    fill: var(--disabled-fill-color);\n",
              "    box-shadow: none;\n",
              "  }\n",
              "\n",
              "  .colab-df-spinner {\n",
              "    border: 2px solid var(--fill-color);\n",
              "    border-color: transparent;\n",
              "    border-bottom-color: var(--fill-color);\n",
              "    animation:\n",
              "      spin 1s steps(1) infinite;\n",
              "  }\n",
              "\n",
              "  @keyframes spin {\n",
              "    0% {\n",
              "      border-color: transparent;\n",
              "      border-bottom-color: var(--fill-color);\n",
              "      border-left-color: var(--fill-color);\n",
              "    }\n",
              "    20% {\n",
              "      border-color: transparent;\n",
              "      border-left-color: var(--fill-color);\n",
              "      border-top-color: var(--fill-color);\n",
              "    }\n",
              "    30% {\n",
              "      border-color: transparent;\n",
              "      border-left-color: var(--fill-color);\n",
              "      border-top-color: var(--fill-color);\n",
              "      border-right-color: var(--fill-color);\n",
              "    }\n",
              "    40% {\n",
              "      border-color: transparent;\n",
              "      border-right-color: var(--fill-color);\n",
              "      border-top-color: var(--fill-color);\n",
              "    }\n",
              "    60% {\n",
              "      border-color: transparent;\n",
              "      border-right-color: var(--fill-color);\n",
              "    }\n",
              "    80% {\n",
              "      border-color: transparent;\n",
              "      border-right-color: var(--fill-color);\n",
              "      border-bottom-color: var(--fill-color);\n",
              "    }\n",
              "    90% {\n",
              "      border-color: transparent;\n",
              "      border-bottom-color: var(--fill-color);\n",
              "    }\n",
              "  }\n",
              "</style>\n",
              "\n",
              "  <script>\n",
              "    async function quickchart(key) {\n",
              "      const quickchartButtonEl =\n",
              "        document.querySelector('#' + key + ' button');\n",
              "      quickchartButtonEl.disabled = true;  // To prevent multiple clicks.\n",
              "      quickchartButtonEl.classList.add('colab-df-spinner');\n",
              "      try {\n",
              "        const charts = await google.colab.kernel.invokeFunction(\n",
              "            'suggestCharts', [key], {});\n",
              "      } catch (error) {\n",
              "        console.error('Error during call to suggestCharts:', error);\n",
              "      }\n",
              "      quickchartButtonEl.classList.remove('colab-df-spinner');\n",
              "      quickchartButtonEl.classList.add('colab-df-quickchart-complete');\n",
              "    }\n",
              "    (() => {\n",
              "      let quickchartButtonEl =\n",
              "        document.querySelector('#df-6f39fe9a-55eb-4833-bcd1-1d8a81281eb1 button');\n",
              "      quickchartButtonEl.style.display =\n",
              "        google.colab.kernel.accessAllowed ? 'block' : 'none';\n",
              "    })();\n",
              "  </script>\n",
              "</div>\n",
              "\n",
              "    </div>\n",
              "  </div>\n"
            ],
            "application/vnd.google.colaboratory.intrinsic+json": {
              "type": "dataframe",
              "variable_name": "data",
              "summary": "{\n  \"name\": \"data\",\n  \"rows\": 1006,\n  \"fields\": [\n    {\n      \"column\": \"Date\",\n      \"properties\": {\n        \"dtype\": \"date\",\n        \"min\": \"2020-01-02 00:00:00\",\n        \"max\": \"2023-12-29 00:00:00\",\n        \"num_unique_values\": 1006,\n        \"samples\": [\n          \"2023-09-08 00:00:00\",\n          \"2022-07-05 00:00:00\",\n          \"2022-09-16 00:00:00\"\n        ],\n        \"semantic_type\": \"\",\n        \"description\": \"\"\n      }\n    },\n    {\n      \"column\": \"Open\",\n      \"properties\": {\n        \"dtype\": \"number\",\n        \"std\": 71.70694103207248,\n        \"min\": 71.93000030517578,\n        \"max\": 360.9100036621094,\n        \"num_unique_values\": 959,\n        \"samples\": [\n          157.0500030517578,\n          238.02999877929688,\n          243.00999450683594\n        ],\n        \"semantic_type\": \"\",\n        \"description\": \"\"\n      }\n    },\n    {\n      \"column\": \"High\",\n      \"properties\": {\n        \"dtype\": \"number\",\n        \"std\": 73.14482386030727,\n        \"min\": 72.33000183105469,\n        \"max\": 387.44000244140625,\n        \"num_unique_values\": 973,\n        \"samples\": [\n          267.489990234375,\n          139.80999755859375,\n          251.4499969482422\n        ],\n        \"semantic_type\": \"\",\n        \"description\": \"\"\n      }\n    },\n    {\n      \"column\": \"Low\",\n      \"properties\": {\n        \"dtype\": \"number\",\n        \"std\": 70.09794353479438,\n        \"min\": 69.28500366210938,\n        \"max\": 354.1780090332031,\n        \"num_unique_values\": 984,\n        \"samples\": [\n          96.83999633789062,\n          249.02000427246094,\n          80.05000305175781\n        ],\n        \"semantic_type\": \"\",\n        \"description\": \"\"\n      }\n    },\n    {\n      \"column\": \"Close\",\n      \"properties\": {\n        \"dtype\": \"number\",\n        \"std\": 71.59908563957,\n        \"min\": 71.05000305175781,\n        \"max\": 364.5899963378906,\n        \"num_unique_values\": 992,\n        \"samples\": [\n          276.1000061035156,\n          262.1499938964844,\n          227.6999969482422\n        ],\n        \"semantic_type\": \"\",\n        \"description\": \"\"\n      }\n    },\n    {\n      \"column\": \"Adj Close\",\n      \"properties\": {\n        \"dtype\": \"number\",\n        \"std\": 71.59908563957,\n        \"min\": 71.05000305175781,\n        \"max\": 364.5899963378906,\n        \"num_unique_values\": 992,\n        \"samples\": [\n          276.1000061035156,\n          262.1499938964844,\n          227.6999969482422\n        ],\n        \"semantic_type\": \"\",\n        \"description\": \"\"\n      }\n    },\n    {\n      \"column\": \"Volume\",\n      \"properties\": {\n        \"dtype\": \"number\",\n        \"std\": 1367330,\n        \"min\": 435800,\n        \"max\": 14609900,\n        \"num_unique_values\": 984,\n        \"samples\": [\n          1776300,\n          988000,\n          1314700\n        ],\n        \"semantic_type\": \"\",\n        \"description\": \"\"\n      }\n    }\n  ]\n}"
            }
          },
          "metadata": {},
          "execution_count": 92
        }
      ]
    },
    {
      "cell_type": "markdown",
      "source": [
        "## 4. Data Preprocessing\n",
        "This section prepares the downloaded stock data for analysis by resetting the index, converting the 'Date' column to datetime format, setting it as the new index, and narrowing down the dataset to only include the 'Adj Close' price of the stocks."
      ],
      "metadata": {
        "id": "4F5Gzf5GayMh"
      }
    },
    {
      "cell_type": "code",
      "source": [
        "dataset_ex_df = data.copy()\n",
        "dataset_ex_df = dataset_ex_df.reset_index()\n",
        "dataset_ex_df['Date'] = pd.to_datetime(dataset_ex_df['Date'])\n",
        "dataset_ex_df.set_index('Date', inplace=True)\n",
        "dataset_ex_df = dataset_ex_df['Adj Close'].to_frame()"
      ],
      "metadata": {
        "id": "4_ix8uyauGwq"
      },
      "execution_count": null,
      "outputs": []
    },
    {
      "cell_type": "markdown",
      "source": [
        "## 4.  Splitting the data into train and test sets.\n",
        "Splitting the data into training and testing sets. Using the first 80% of the data\n",
        "for training and the remaining 20% for testing.\n"
      ],
      "metadata": {
        "id": "mB7v5sNpa-vn"
      }
    },
    {
      "cell_type": "code",
      "source": [
        "# Define the ARIMA model\n",
        "def arima_forecast(history):\n",
        "    # Fit the model\n",
        "    model = ARIMA(history, order=(0,1,0))\n",
        "    model_fit = model.fit()\n",
        "\n",
        "    # Make the prediction\n",
        "    output = model_fit.forecast()\n",
        "    yhat = output[0]\n",
        "    return yhat\n",
        "\n",
        "# Split data into train and test sets\n",
        "X = dataset_ex_df.values\n",
        "size = int(len(X) * 0.8)\n",
        "train, test = X[0:size], X[size:len(X)]\n",
        "\n",
        "# Walk-forward validation\n",
        "history = [x for x in train]\n",
        "predictions = list()\n",
        "for t in range(len(test)):\n",
        "    # Generate a prediction\n",
        "    yhat = arima_forecast(history)\n",
        "    predictions.append(yhat)\n",
        "    # Add the predicted value to the training set\n",
        "    obs = test[t]\n",
        "    history.append(obs)"
      ],
      "metadata": {
        "id": "5_HXX2cEuXBe"
      },
      "execution_count": null,
      "outputs": []
    },
    {
      "cell_type": "markdown",
      "source": [
        "## 5. Building the model & selecting optimal ARIMA parameters.\n",
        "This code block utilizes the auto_arima function to automatically determine the best ARIMA parameters for the model based on the dataset. This helps in identifying the most suitable model for forecasting."
      ],
      "metadata": {
        "id": "xv3l8D9LcXx-"
      }
    },
    {
      "cell_type": "code",
      "source": [
        "# Auto ARIMA to select optimal ARIMA parameters\n",
        "model = pm.auto_arima(dataset_ex_df['Adj Close'], seasonal=False, trace=True)\n",
        "print(model.summary())"
      ],
      "metadata": {
        "colab": {
          "base_uri": "https://localhost:8080/"
        },
        "id": "WQ_XT0DrugpG",
        "outputId": "a83ad8fc-7acd-49e0-d1db-94ef64f0ea3a"
      },
      "execution_count": null,
      "outputs": [
        {
          "output_type": "stream",
          "name": "stdout",
          "text": [
            "Performing stepwise search to minimize aic\n",
            " ARIMA(2,1,2)(0,0,0)[0] intercept   : AIC=6609.352, Time=3.92 sec\n",
            " ARIMA(0,1,0)(0,0,0)[0] intercept   : AIC=6609.937, Time=0.10 sec\n",
            " ARIMA(1,1,0)(0,0,0)[0] intercept   : AIC=6611.936, Time=0.17 sec\n",
            " ARIMA(0,1,1)(0,0,0)[0] intercept   : AIC=6611.936, Time=0.28 sec\n",
            " ARIMA(0,1,0)(0,0,0)[0]             : AIC=6607.968, Time=0.04 sec\n",
            " ARIMA(1,1,1)(0,0,0)[0] intercept   : AIC=6613.936, Time=0.26 sec\n",
            "\n",
            "Best model:  ARIMA(0,1,0)(0,0,0)[0]          \n",
            "Total fit time: 4.785 seconds\n",
            "                               SARIMAX Results                                \n",
            "==============================================================================\n",
            "Dep. Variable:                      y   No. Observations:                 1006\n",
            "Model:               SARIMAX(0, 1, 0)   Log Likelihood               -3302.984\n",
            "Date:                Sat, 06 Apr 2024   AIC                           6607.968\n",
            "Time:                        01:32:21   BIC                           6612.881\n",
            "Sample:                             0   HQIC                          6609.835\n",
            "                               - 1006                                         \n",
            "Covariance Type:                  opg                                         \n",
            "==============================================================================\n",
            "                 coef    std err          z      P>|z|      [0.025      0.975]\n",
            "------------------------------------------------------------------------------\n",
            "sigma2        41.8990      1.003     41.784      0.000      39.934      43.864\n",
            "===================================================================================\n",
            "Ljung-Box (L1) (Q):                   0.00   Jarque-Bera (JB):              1030.55\n",
            "Prob(Q):                              0.98   Prob(JB):                         0.00\n",
            "Heteroskedasticity (H):               0.16   Skew:                            -0.14\n",
            "Prob(H) (two-sided):                  0.00   Kurtosis:                         7.95\n",
            "===================================================================================\n",
            "\n",
            "Warnings:\n",
            "[1] Covariance matrix calculated using the outer product of gradients (complex-step).\n"
          ]
        }
      ]
    },
    {
      "cell_type": "markdown",
      "source": [
        "## 6. Evaluating the model (RMSE)"
      ],
      "metadata": {
        "id": "XwOvWBIrwo-U"
      }
    },
    {
      "cell_type": "code",
      "source": [
        "rmse = np.sqrt(mean_squared_error(test, predictions))\n",
        "print(f'Root Mean Squared Error (RMSE): {rmse}')"
      ],
      "metadata": {
        "colab": {
          "base_uri": "https://localhost:8080/"
        },
        "id": "vKOVKJtawtvG",
        "outputId": "050c5975-b4dd-4a52-f489-3b8db0567028"
      },
      "execution_count": null,
      "outputs": [
        {
          "output_type": "stream",
          "name": "stdout",
          "text": [
            "Root Mean Squared Error (RMSE): 3.7217344961539567\n"
          ]
        }
      ]
    },
    {
      "cell_type": "markdown",
      "source": [
        "The RMSE of 3.72 indicates the model's forecasts are, on average, within 3.72 units of the actual values. For many stocks, this suggests the model is fairly accurate and useful for predicting prices within a reasonable error margin."
      ],
      "metadata": {
        "id": "jui4wUOYCol8"
      }
    },
    {
      "cell_type": "markdown",
      "source": [
        "## 7. Visualization\n",
        "Generates a plot to visualize and compare the actual vs. predicted stock prices, helping to assess the accuracy of the ARIMA model's forecasts."
      ],
      "metadata": {
        "id": "26XDU75gc1mz"
      }
    },
    {
      "cell_type": "code",
      "source": [
        "plt.figure(figsize=(12, 6), dpi=100)\n",
        "plt.plot(dataset_ex_df.iloc[size:,:].index, test, label='Actual')\n",
        "plt.plot(dataset_ex_df.iloc[size:,:].index, predictions, color='red', label='Predicted')\n",
        "plt.title('ARIMA Predictions vs Actual Values for Spotify stock prices')\n",
        "plt.xlabel('Date')\n",
        "plt.ylabel('Stock Price')\n",
        "plt.legend()\n",
        "plt.show()"
      ],
      "metadata": {
        "colab": {
          "base_uri": "https://localhost:8080/",
          "height": 400
        },
        "id": "J6nrfmt_uwBy",
        "outputId": "a15c8785-9262-43b3-b750-104da0c29355"
      },
      "execution_count": null,
      "outputs": [
        {
          "output_type": "display_data",
          "data": {
            "text/plain": [
              "<Figure size 1200x600 with 1 Axes>"
            ],
            "image/png": "[encoded data removed]"
          },
          "metadata": {}
        }
      ]
    },
    {
      "cell_type": "markdown",
      "source": [
        "The plot shows the ARIMA model's predictions closely tracking the actual stock prices over period of March 2023 to Jan 2024. The predictions are pretty close to the real numbers, showing that our model does a good job of guessing where the stock price might go. There are a few spots where the model's guess and the real price don't match up perfectly, which is normal because stock prices can change quickly. But overall, the model gives us a good idea about the trend of the stock price."
      ],
      "metadata": {
        "id": "oRevGnk5BNaA"
      }
    },
    {
      "cell_type": "markdown",
      "source": [
        "## 8. Predicting for a date in the future.\n",
        "Predicts the stock price for a specific future date using the ARIMA model."
      ],
      "metadata": {
        "id": "jKB8BS4CzEZd"
      }
    },
    {
      "cell_type": "code",
      "source": [
        "from statsmodels.tsa.arima.model import ARIMA\n",
        "\n",
        "# Fit the ARIMA model\n",
        "model_arima = ARIMA(dataset_ex_df['Adj Close'], order=(0, 1, 0))\n",
        "model_arima_fit = model_arima.fit()\n",
        "\n",
        "# Calculate the number of days to forecast ahead\n",
        "last_date = pd.to_datetime('2024-01-01')\n",
        "target_date = pd.to_datetime('2024-03-05') #chosen date, i.e., March 1, 2024\n",
        "delta_days = (target_date - last_date).days\n",
        "\n",
        "# Forecast the stock price for chosen date\n",
        "forecast = model_arima_fit.forecast(steps=delta_days)\n",
        "if isinstance(forecast, pd.Series):\n",
        "    predicted_value = forecast.iloc[-1]\n",
        "else:\n",
        "    predicted_value = forecast\n",
        "\n",
        "print(f\"Predicted stock price for March 1, 2024: {predicted_value}\")\n"
      ],
      "metadata": {
        "colab": {
          "base_uri": "https://localhost:8080/"
        },
        "id": "n49wiHfNq5pE",
        "outputId": "f6bb4c62-ae56-4bb6-9f45-ae2f476b088f"
      },
      "execution_count": null,
      "outputs": [
        {
          "output_type": "stream",
          "name": "stdout",
          "text": [
            "Predicted stock price for March 1, 2024: 187.91000366210938\n"
          ]
        },
        {
          "output_type": "stream",
          "name": "stderr",
          "text": [
            "/usr/local/lib/python3.10/dist-packages/statsmodels/tsa/base/tsa_model.py:473: ValueWarning: A date index has been provided, but it has no associated frequency information and so will be ignored when e.g. forecasting.\n",
            "  self._init_dates(dates, freq)\n",
            "/usr/local/lib/python3.10/dist-packages/statsmodels/tsa/base/tsa_model.py:473: ValueWarning: A date index has been provided, but it has no associated frequency information and so will be ignored when e.g. forecasting.\n",
            "  self._init_dates(dates, freq)\n",
            "/usr/local/lib/python3.10/dist-packages/statsmodels/tsa/base/tsa_model.py:473: ValueWarning: A date index has been provided, but it has no associated frequency information and so will be ignored when e.g. forecasting.\n",
            "  self._init_dates(dates, freq)\n",
            "/usr/local/lib/python3.10/dist-packages/statsmodels/tsa/base/tsa_model.py:836: ValueWarning: No supported index is available. Prediction results will be given with an integer index beginning at `start`.\n",
            "  return get_prediction_index(\n",
            "/usr/local/lib/python3.10/dist-packages/statsmodels/tsa/base/tsa_model.py:836: FutureWarning: No supported index is available. In the next version, calling this method in a model without a supported index will result in an exception.\n",
            "  return get_prediction_index(\n"
          ]
        }
      ]
    },
    {
      "cell_type": "markdown",
      "source": [
        "## 9. Recommendation based on the prediction.\n",
        "This code generates Buy, Sell, or Hold recommendations for a stock based on whether its forecasted price is expected to change from the current price, aiming to guide investment decisions."
      ],
      "metadata": {
        "id": "POdjP5xld5Pk"
      }
    },
    {
      "cell_type": "code",
      "source": [
        "# Get the most recent date and its corresponding Adj Close price\n",
        "# Assuming the Date column contains datetime objects\n",
        "current_price = df['Adj Close'].iloc[-1]\n",
        "\n",
        "print(\"Current price:\", current_price)\n",
        "\n",
        "# Define your recommendation thresholds\n",
        "sell_threshold = current_price * 0.95  # Example: sell if predicted price is 5% lower than current price\n",
        "buy_threshold = current_price * 1.05   # Example: buy if predicted price is 5% higher than current price\n",
        "\n",
        "# Make recommendation based on predicted price\n",
        "if predicted_value< sell_threshold:\n",
        "    recommendation = \"Sell\"\n",
        "elif predicted_value > buy_threshold:\n",
        "    recommendation = \"Buy\"\n",
        "else:\n",
        "    recommendation = \"Hold\"\n",
        "\n",
        "print(\"Predicted price:\", predicted_value)\n",
        "print(\"Current price:\", current_price)\n",
        "print(\"Recommendation:\", recommendation)"
      ],
      "metadata": {
        "colab": {
          "base_uri": "https://localhost:8080/"
        },
        "id": "6l3OEAIu9MwC",
        "outputId": "857edecc-5455-43f1-b271-9a1bc24e568a"
      },
      "execution_count": null,
      "outputs": [
        {
          "output_type": "stream",
          "name": "stdout",
          "text": [
            "Current price: 130.2210693359375\n",
            "Predicted price: 187.91000366210938\n",
            "Current price: 130.2210693359375\n",
            "Recommendation: Buy\n"
          ]
        }
      ]
    },
    {
      "cell_type": "markdown",
      "source": [
        "**Comments on recommendation:**\n",
        "Based on the output, the predicted stock price is significantly higher than the current price, indicating a strong positive forecast for the stock's future value. With the predicted price surpassing the buy threshold; set at a 5% increase from the current price, the recommendation is to \"Buy.\" This suggests optimism about the stock's potential for growth, making it a potentially profitable investment opportunity according to the model's prediction."
      ],
      "metadata": {
        "id": "3Fc-E210AsXk"
      }
    }
  ]
}